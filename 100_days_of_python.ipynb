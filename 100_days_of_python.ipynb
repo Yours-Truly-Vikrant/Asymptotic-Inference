{
  "nbformat": 4,
  "nbformat_minor": 0,
  "metadata": {
    "colab": {
      "provenance": [],
      "authorship_tag": "ABX9TyNqKmqgFI84I2GBGCO9K5+9",
      "include_colab_link": true
    },
    "kernelspec": {
      "name": "python3",
      "display_name": "Python 3"
    },
    "language_info": {
      "name": "python"
    }
  },
  "cells": [
    {
      "cell_type": "markdown",
      "metadata": {
        "id": "view-in-github",
        "colab_type": "text"
      },
      "source": [
        "<a href=\"https://colab.research.google.com/github/Yours-Truly-Vikrant/Asymptotic-Inference/blob/main/100_days_of_python.ipynb\" target=\"_parent\"><img src=\"https://colab.research.google.com/assets/colab-badge.svg\" alt=\"Open In Colab\"/></a>"
      ]
    },
    {
      "cell_type": "markdown",
      "source": [
        "1st Session\n"
      ],
      "metadata": {
        "id": "bSqrmVEnQ4n0"
      }
    },
    {
      "cell_type": "code",
      "source": [
        "print(\"Hello World\\n Hello World!\")\n",
        "print(\"Hello \"+\"Angela\")\n",
        "print(\"HEllo\"+ \" \" +\"World\")\n",
        "print(\"Day 1 - String Manipulation\\nString concatenation is done with the + sign\")\n",
        "print('e.g. print(\"Hello\" + \"World\")')\n",
        "print((\"New Lines can be created with a backlash and n\"))\n",
        "print(\"Vky\")"
      ],
      "metadata": {
        "colab": {
          "base_uri": "https://localhost:8080/"
        },
        "id": "pTc8p_e1Q8UJ",
        "outputId": "5423a4e7-4db6-46a1-f5dd-1f86718cbda4"
      },
      "execution_count": 1,
      "outputs": [
        {
          "output_type": "stream",
          "name": "stdout",
          "text": [
            "Hello World\n",
            " Hello World!\n",
            "Hello Angela\n",
            "HEllo World\n",
            "Day 1 - String Manipulation\n",
            "String concatenation is done with the + sign\n",
            "e.g. print(\"Hello\" + \"World\")\n",
            "New Lines can be created with a backlash and n\n",
            "Vky\n"
          ]
        }
      ]
    }
  ]
}